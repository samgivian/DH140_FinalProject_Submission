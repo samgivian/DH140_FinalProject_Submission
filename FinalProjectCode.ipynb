{
 "cells": [
  {
   "cell_type": "markdown",
   "id": "3efd4907",
   "metadata": {},
   "source": [
    "# Analyzing social scientists' testimonies trends before the United States Congress from 1946 to 2016\n",
    "\n",
    "### Saman Givian\n",
    "\n",
    "#### 20 March 2023\n",
    "\n",
    "## Introduction\n",
    "\n",
    "### Overview\n",
    "In this project, I analyze the frequency and causes of social scientists' appearance before the United States Congress from the years 1946 to 2016 along with other factors. The majority of the Congressional representatives come from a political background, but often legislation that they pass has many social and economic consequences especially taking to account that Congress has the power of the purse. Thus, it would make sense for Congress to rely more on experts for making laws. Especially to question people that hold positions in the federal reserve or treasury about the state of the economy and what their organization is doing. It would only make sense to expect the number of such testimonies to increase over time as we have become more science and data-driven society with more complex societal problems. But in this project, I show as we analyze the data that Congress doesn't rely more on the help of experts per se, but only in times of crisis. Additionally, it seems the majority of testimonies are being done by economists which are expected by taking to account the nature of Congress's responsibilities. As we analyze the reasons and committees that scientists most often testify we see the majority of Congressional concerns are toward's budget, taxes, health care, employment, social security, education, China, and small businesses,... which are mostly economic-related matters. It also seems a democratic-leaning Congress slightly increases the number of testimonies by social scientists. For this project I used a variety of charts such as bar charts, pie charts, scatter plots, and line plots along with Network and Text analysis and BeautifulSoup for web scrapping the data.\n",
    "\n",
    "### Datasets \n",
    "&nbsp;&nbsp;&nbsp;&nbsp;This project explores uses three different datasets. The main dataset is the social scientists who testified before Congress from 1946-2016(with a slight update from 2016), the hearings they testified at, and the characteristics of those hearings, such as the congressional committees that convened them. This dataset was collected with the support NSF grant by Charles Seguin, Thomas V. Maher, and Yongjun Zhang and published on July 19, 2022.\n",
    "<br/>&nbsp;&nbsp;&nbsp;&nbsp; I couldn't find a dataset that has a breakdown of each Congress by party and year.\n",
    "But I found a table containing this information on the History, Art & Archives of the US House of Representatives.\n",
    "So I scrapped the website with BeautifulSoup API, turned it into a data frame with Pandas, and saved it as CSV.\n",
    "<br/>&nbsp;&nbsp;&nbsp;&nbsp; To find if there is a correlation between crises and scientists' testimonies, I decided to look at the recession data as it is the biggest economic challenge for Congress. Federal Reserve publishes all of its economic data, and the Federal Reserve Bank Of St. Louis had recession data from 1967 to now, which I used for this project.\n",
    "\n",
    "### Links to datasets:\n",
    "* [Social scientists congressional testimony](https://osf.io/e3h98/files/osfstorage).\n",
    "* [Party Divisions of the House of Representatives, 1789 to Present](https://history.house.gov/Institution/Party-Divisions/Party-Divisions/).\n",
    "* [Dates of U.S. recessions as inferred by GDP-based recession indicator](https://fred.stlouisfed.org/series/JHDUSRGDPBR)\n",
    "\n",
    "### Motivation\n",
    "Since the beginning of Covid-19, science and scientists have faced a lot of distrust and attacks from the public and even Congress. I was curious to see if Congress has historically relied on the experience and guidance of experts for help or not. Specifically, during times of crises like the financial crises of 2008 or the stagflation era of the 1980s, the 2001 terrorist attack, and the tech bubble of 2001. I also wanted to see whether our government relies more on the help of experts compared to the past as we have progressed and have more experts available to help us in making legislation. I also wanted to study the effect of political parties on how it affects the view on science and scientists testimonies.\n",
    "\n",
    "### Questions\n",
    "1. What type of social scientists does Congress mostly invite to testify?\n",
    "2. Has the number of social scientists appearing before Congress increased over time?\n",
    "3. Does Congress being dominated by Republicans or Democrats affect the number of social scientists testifying?\n",
    "4. Are there any trends in the subfields of social scientists who testify?\n",
    "5. What type of social scientists testify the most, and what are the probable causes?\n",
    "6. For what causes does Congress mostly invite social scientists to testify?\n",
    "7. Are there any patterns between crises and the number of scientists testifying before Congress?"
   ]
  },
  {
   "cell_type": "code",
   "execution_count": 1,
   "id": "7dbabeb1",
   "metadata": {},
   "outputs": [
    {
     "name": "stdout",
     "output_type": "stream",
     "text": [
      "Requirement already satisfied: numpy in /opt/conda/lib/python3.10/site-packages (from -r requirements.txt (line 1)) (1.24.1)\n",
      "Requirement already satisfied: matplotlib in /opt/conda/lib/python3.10/site-packages (from -r requirements.txt (line 2)) (3.6.3)\n",
      "Requirement already satisfied: pandas in /opt/conda/lib/python3.10/site-packages (from -r requirements.txt (line 3)) (1.5.2)\n",
      "Requirement already satisfied: bs4 in /opt/conda/lib/python3.10/site-packages (from -r requirements.txt (line 4)) (0.0.1)\n",
      "Requirement already satisfied: requests in /opt/conda/lib/python3.10/site-packages (from -r requirements.txt (line 5)) (2.28.2)\n",
      "Requirement already satisfied: nltk in /opt/conda/lib/python3.10/site-packages (from -r requirements.txt (line 6)) (3.8.1)\n",
      "Requirement already satisfied: networkx in /opt/conda/lib/python3.10/site-packages (from -r requirements.txt (line 7)) (3.0)\n",
      "Requirement already satisfied: bokeh in /opt/conda/lib/python3.10/site-packages (from -r requirements.txt (line 8)) (3.0.3)\n",
      "Requirement already satisfied: python-dateutil>=2.7 in /opt/conda/lib/python3.10/site-packages (from matplotlib->-r requirements.txt (line 2)) (2.8.2)\n",
      "Requirement already satisfied: pillow>=6.2.0 in /opt/conda/lib/python3.10/site-packages (from matplotlib->-r requirements.txt (line 2)) (9.4.0)\n",
      "Requirement already satisfied: contourpy>=1.0.1 in /opt/conda/lib/python3.10/site-packages (from matplotlib->-r requirements.txt (line 2)) (1.0.7)\n",
      "Requirement already satisfied: packaging>=20.0 in /opt/conda/lib/python3.10/site-packages (from matplotlib->-r requirements.txt (line 2)) (23.0)\n",
      "Requirement already satisfied: kiwisolver>=1.0.1 in /opt/conda/lib/python3.10/site-packages (from matplotlib->-r requirements.txt (line 2)) (1.4.4)\n",
      "Requirement already satisfied: fonttools>=4.22.0 in /opt/conda/lib/python3.10/site-packages (from matplotlib->-r requirements.txt (line 2)) (4.38.0)\n",
      "Requirement already satisfied: pyparsing>=2.2.1 in /opt/conda/lib/python3.10/site-packages (from matplotlib->-r requirements.txt (line 2)) (3.0.9)\n",
      "Requirement already satisfied: cycler>=0.10 in /opt/conda/lib/python3.10/site-packages (from matplotlib->-r requirements.txt (line 2)) (0.11.0)\n",
      "Requirement already satisfied: pytz>=2020.1 in /opt/conda/lib/python3.10/site-packages (from pandas->-r requirements.txt (line 3)) (2022.7)\n",
      "Requirement already satisfied: beautifulsoup4 in /opt/conda/lib/python3.10/site-packages (from bs4->-r requirements.txt (line 4)) (4.11.1)\n",
      "Requirement already satisfied: idna<4,>=2.5 in /opt/conda/lib/python3.10/site-packages (from requests->-r requirements.txt (line 5)) (3.4)\n",
      "Requirement already satisfied: charset-normalizer<4,>=2 in /opt/conda/lib/python3.10/site-packages (from requests->-r requirements.txt (line 5)) (3.0.1)\n",
      "Requirement already satisfied: urllib3<1.27,>=1.21.1 in /opt/conda/lib/python3.10/site-packages (from requests->-r requirements.txt (line 5)) (1.26.14)\n",
      "Requirement already satisfied: certifi>=2017.4.17 in /opt/conda/lib/python3.10/site-packages (from requests->-r requirements.txt (line 5)) (2022.12.7)\n",
      "Requirement already satisfied: regex>=2021.8.3 in /opt/conda/lib/python3.10/site-packages (from nltk->-r requirements.txt (line 6)) (2022.10.31)\n",
      "Requirement already satisfied: joblib in /opt/conda/lib/python3.10/site-packages (from nltk->-r requirements.txt (line 6)) (1.2.0)\n",
      "Requirement already satisfied: tqdm in /opt/conda/lib/python3.10/site-packages (from nltk->-r requirements.txt (line 6)) (4.64.1)\n",
      "Requirement already satisfied: click in /opt/conda/lib/python3.10/site-packages (from nltk->-r requirements.txt (line 6)) (8.1.3)\n",
      "Requirement already satisfied: Jinja2>=2.9 in /opt/conda/lib/python3.10/site-packages (from bokeh->-r requirements.txt (line 8)) (3.1.2)\n",
      "Requirement already satisfied: PyYAML>=3.10 in /opt/conda/lib/python3.10/site-packages (from bokeh->-r requirements.txt (line 8)) (6.0)\n",
      "Requirement already satisfied: xyzservices>=2021.09.1 in /opt/conda/lib/python3.10/site-packages (from bokeh->-r requirements.txt (line 8)) (2022.9.0)\n",
      "Requirement already satisfied: tornado>=5.1 in /opt/conda/lib/python3.10/site-packages (from bokeh->-r requirements.txt (line 8)) (6.2)\n",
      "Requirement already satisfied: MarkupSafe>=2.0 in /opt/conda/lib/python3.10/site-packages (from Jinja2>=2.9->bokeh->-r requirements.txt (line 8)) (2.1.2)\n",
      "Requirement already satisfied: six>=1.5 in /opt/conda/lib/python3.10/site-packages (from python-dateutil>=2.7->matplotlib->-r requirements.txt (line 2)) (1.16.0)\n",
      "Requirement already satisfied: soupsieve>1.2 in /opt/conda/lib/python3.10/site-packages (from beautifulsoup4->bs4->-r requirements.txt (line 4)) (2.3.2.post1)\n",
      "Note: you may need to restart the kernel to use updated packages.\n"
     ]
    }
   ],
   "source": [
    "pip install -r requirements.txt"
   ]
  },
  {
   "cell_type": "code",
   "execution_count": 2,
   "id": "5effd7b8",
   "metadata": {},
   "outputs": [
    {
     "name": "stderr",
     "output_type": "stream",
     "text": [
      "[nltk_data] Downloading package punkt to /home/jovyan/nltk_data...\n",
      "[nltk_data]   Package punkt is already up-to-date!\n",
      "[nltk_data] Downloading package stopwords to /home/jovyan/nltk_data...\n",
      "[nltk_data]   Package stopwords is already up-to-date!\n",
      "/tmp/ipykernel_5245/1875010087.py:25: DeprecationWarning: `set_matplotlib_formats` is deprecated since IPython 7.23, directly use `matplotlib_inline.backend_inline.set_matplotlib_formats()`\n",
      "  set_matplotlib_formats('svg')\n"
     ]
    },
    {
     "data": {
      "text/html": [
       "<style>\n",
       "        .bk-notebook-logo {\n",
       "            display: block;\n",
       "            width: 20px;\n",
       "            height: 20px;\n",
       "            background-image: url(data:image/png;base64,iVBORw0KGgoAAAANSUhEUgAAABQAAAAUCAYAAACNiR0NAAAABHNCSVQICAgIfAhkiAAAAAlwSFlzAAALEgAACxIB0t1+/AAAABx0RVh0U29mdHdhcmUAQWRvYmUgRmlyZXdvcmtzIENTNui8sowAAAOkSURBVDiNjZRtaJVlGMd/1/08zzln5zjP1LWcU9N0NkN8m2CYjpgQYQXqSs0I84OLIC0hkEKoPtiH3gmKoiJDU7QpLgoLjLIQCpEsNJ1vqUOdO7ppbuec5+V+rj4ctwzd8IIbbi6u+8f1539dt3A78eXC7QizUF7gyV1fD1Yqg4JWz84yffhm0qkFqBogB9rM8tZdtwVsPUhWhGcFJngGeWrPzHm5oaMmkfEg1usvLFyc8jLRqDOMru7AyC8saQr7GG7f5fvDeH7Ej8CM66nIF+8yngt6HWaKh7k49Soy9nXurCi1o3qUbS3zWfrYeQDTB/Qj6kX6Ybhw4B+bOYoLKCC9H3Nu/leUTZ1JdRWkkn2ldcCamzrcf47KKXdAJllSlxAOkRgyHsGC/zRday5Qld9DyoM4/q/rUoy/CXh3jzOu3bHUVZeU+DEn8FInkPBFlu3+nW3Nw0mk6vCDiWg8CeJaxEwuHS3+z5RgY+YBR6V1Z1nxSOfoaPa4LASWxxdNp+VWTk7+4vzaou8v8PN+xo+KY2xsw6une2frhw05CTYOmQvsEhjhWjn0bmXPjpE1+kplmmkP3suftwTubK9Vq22qKmrBhpY4jvd5afdRA3wGjFAgcnTK2s4hY0/GPNIb0nErGMCRxWOOX64Z8RAC4oCXdklmEvcL8o0BfkNK4lUg9HTl+oPlQxdNo3Mg4Nv175e/1LDGzZen30MEjRUtmXSfiTVu1kK8W4txyV6BMKlbgk3lMwYCiusNy9fVfvvwMxv8Ynl6vxoByANLTWplvuj/nF9m2+PDtt1eiHPBr1oIfhCChQMBw6Aw0UulqTKZdfVvfG7VcfIqLG9bcldL/+pdWTLxLUy8Qq38heUIjh4XlzZxzQm19lLFlr8vdQ97rjZVOLf8nclzckbcD4wxXMidpX30sFd37Fv/GtwwhzhxGVAprjbg0gCAEeIgwCZyTV2Z1REEW8O4py0wsjeloKoMr6iCY6dP92H6Vw/oTyICIthibxjm/DfN9lVz8IqtqKYLUXfoKVMVQVVJOElGjrnnUt9T9wbgp8AyYKaGlqingHZU/uG2NTZSVqwHQTWkx9hxjkpWDaCg6Ckj5qebgBVbT3V3NNXMSiWSDdGV3hrtzla7J+duwPOToIg42ChPQOQjspnSlp1V+Gjdged7+8UN5CRAV7a5EdFNwCjEaBR27b3W890TE7g24NAP/mMDXRWrGoFPQI9ls/MWO2dWFAar/xcOIImbbpA3zgAAAABJRU5ErkJggg==);\n",
       "        }\n",
       "    </style>\n",
       "    <div>\n",
       "        <a href=\"https://bokeh.org\" target=\"_blank\" class=\"bk-notebook-logo\"></a>\n",
       "        <span id=\"p1001\">Loading BokehJS ...</span>\n",
       "    </div>\n"
      ]
     },
     "metadata": {},
     "output_type": "display_data"
    },
    {
     "data": {
      "application/javascript": [
       "(function(root) {\n",
       "  function now() {\n",
       "    return new Date();\n",
       "  }\n",
       "\n",
       "  const force = true;\n",
       "\n",
       "  if (typeof root._bokeh_onload_callbacks === \"undefined\" || force === true) {\n",
       "    root._bokeh_onload_callbacks = [];\n",
       "    root._bokeh_is_loading = undefined;\n",
       "  }\n",
       "\n",
       "const JS_MIME_TYPE = 'application/javascript';\n",
       "  const HTML_MIME_TYPE = 'text/html';\n",
       "  const EXEC_MIME_TYPE = 'application/vnd.bokehjs_exec.v0+json';\n",
       "  const CLASS_NAME = 'output_bokeh rendered_html';\n",
       "\n",
       "  /**\n",
       "   * Render data to the DOM node\n",
       "   */\n",
       "  function render(props, node) {\n",
       "    const script = document.createElement(\"script\");\n",
       "    node.appendChild(script);\n",
       "  }\n",
       "\n",
       "  /**\n",
       "   * Handle when an output is cleared or removed\n",
       "   */\n",
       "  function handleClearOutput(event, handle) {\n",
       "    const cell = handle.cell;\n",
       "\n",
       "    const id = cell.output_area._bokeh_element_id;\n",
       "    const server_id = cell.output_area._bokeh_server_id;\n",
       "    // Clean up Bokeh references\n",
       "    if (id != null && id in Bokeh.index) {\n",
       "      Bokeh.index[id].model.document.clear();\n",
       "      delete Bokeh.index[id];\n",
       "    }\n",
       "\n",
       "    if (server_id !== undefined) {\n",
       "      // Clean up Bokeh references\n",
       "      const cmd_clean = \"from bokeh.io.state import curstate; print(curstate().uuid_to_server['\" + server_id + \"'].get_sessions()[0].document.roots[0]._id)\";\n",
       "      cell.notebook.kernel.execute(cmd_clean, {\n",
       "        iopub: {\n",
       "          output: function(msg) {\n",
       "            const id = msg.content.text.trim();\n",
       "            if (id in Bokeh.index) {\n",
       "              Bokeh.index[id].model.document.clear();\n",
       "              delete Bokeh.index[id];\n",
       "            }\n",
       "          }\n",
       "        }\n",
       "      });\n",
       "      // Destroy server and session\n",
       "      const cmd_destroy = \"import bokeh.io.notebook as ion; ion.destroy_server('\" + server_id + \"')\";\n",
       "      cell.notebook.kernel.execute(cmd_destroy);\n",
       "    }\n",
       "  }\n",
       "\n",
       "  /**\n",
       "   * Handle when a new output is added\n",
       "   */\n",
       "  function handleAddOutput(event, handle) {\n",
       "    const output_area = handle.output_area;\n",
       "    const output = handle.output;\n",
       "\n",
       "    // limit handleAddOutput to display_data with EXEC_MIME_TYPE content only\n",
       "    if ((output.output_type != \"display_data\") || (!Object.prototype.hasOwnProperty.call(output.data, EXEC_MIME_TYPE))) {\n",
       "      return\n",
       "    }\n",
       "\n",
       "    const toinsert = output_area.element.find(\".\" + CLASS_NAME.split(' ')[0]);\n",
       "\n",
       "    if (output.metadata[EXEC_MIME_TYPE][\"id\"] !== undefined) {\n",
       "      toinsert[toinsert.length - 1].firstChild.textContent = output.data[JS_MIME_TYPE];\n",
       "      // store reference to embed id on output_area\n",
       "      output_area._bokeh_element_id = output.metadata[EXEC_MIME_TYPE][\"id\"];\n",
       "    }\n",
       "    if (output.metadata[EXEC_MIME_TYPE][\"server_id\"] !== undefined) {\n",
       "      const bk_div = document.createElement(\"div\");\n",
       "      bk_div.innerHTML = output.data[HTML_MIME_TYPE];\n",
       "      const script_attrs = bk_div.children[0].attributes;\n",
       "      for (let i = 0; i < script_attrs.length; i++) {\n",
       "        toinsert[toinsert.length - 1].firstChild.setAttribute(script_attrs[i].name, script_attrs[i].value);\n",
       "        toinsert[toinsert.length - 1].firstChild.textContent = bk_div.children[0].textContent\n",
       "      }\n",
       "      // store reference to server id on output_area\n",
       "      output_area._bokeh_server_id = output.metadata[EXEC_MIME_TYPE][\"server_id\"];\n",
       "    }\n",
       "  }\n",
       "\n",
       "  function register_renderer(events, OutputArea) {\n",
       "\n",
       "    function append_mime(data, metadata, element) {\n",
       "      // create a DOM node to render to\n",
       "      const toinsert = this.create_output_subarea(\n",
       "        metadata,\n",
       "        CLASS_NAME,\n",
       "        EXEC_MIME_TYPE\n",
       "      );\n",
       "      this.keyboard_manager.register_events(toinsert);\n",
       "      // Render to node\n",
       "      const props = {data: data, metadata: metadata[EXEC_MIME_TYPE]};\n",
       "      render(props, toinsert[toinsert.length - 1]);\n",
       "      element.append(toinsert);\n",
       "      return toinsert\n",
       "    }\n",
       "\n",
       "    /* Handle when an output is cleared or removed */\n",
       "    events.on('clear_output.CodeCell', handleClearOutput);\n",
       "    events.on('delete.Cell', handleClearOutput);\n",
       "\n",
       "    /* Handle when a new output is added */\n",
       "    events.on('output_added.OutputArea', handleAddOutput);\n",
       "\n",
       "    /**\n",
       "     * Register the mime type and append_mime function with output_area\n",
       "     */\n",
       "    OutputArea.prototype.register_mime_type(EXEC_MIME_TYPE, append_mime, {\n",
       "      /* Is output safe? */\n",
       "      safe: true,\n",
       "      /* Index of renderer in `output_area.display_order` */\n",
       "      index: 0\n",
       "    });\n",
       "  }\n",
       "\n",
       "  // register the mime type if in Jupyter Notebook environment and previously unregistered\n",
       "  if (root.Jupyter !== undefined) {\n",
       "    const events = require('base/js/events');\n",
       "    const OutputArea = require('notebook/js/outputarea').OutputArea;\n",
       "\n",
       "    if (OutputArea.prototype.mime_types().indexOf(EXEC_MIME_TYPE) == -1) {\n",
       "      register_renderer(events, OutputArea);\n",
       "    }\n",
       "  }\n",
       "  if (typeof (root._bokeh_timeout) === \"undefined\" || force === true) {\n",
       "    root._bokeh_timeout = Date.now() + 5000;\n",
       "    root._bokeh_failed_load = false;\n",
       "  }\n",
       "\n",
       "  const NB_LOAD_WARNING = {'data': {'text/html':\n",
       "     \"<div style='background-color: #fdd'>\\n\"+\n",
       "     \"<p>\\n\"+\n",
       "     \"BokehJS does not appear to have successfully loaded. If loading BokehJS from CDN, this \\n\"+\n",
       "     \"may be due to a slow or bad network connection. Possible fixes:\\n\"+\n",
       "     \"</p>\\n\"+\n",
       "     \"<ul>\\n\"+\n",
       "     \"<li>re-rerun `output_notebook()` to attempt to load from CDN again, or</li>\\n\"+\n",
       "     \"<li>use INLINE resources instead, as so:</li>\\n\"+\n",
       "     \"</ul>\\n\"+\n",
       "     \"<code>\\n\"+\n",
       "     \"from bokeh.resources import INLINE\\n\"+\n",
       "     \"output_notebook(resources=INLINE)\\n\"+\n",
       "     \"</code>\\n\"+\n",
       "     \"</div>\"}};\n",
       "\n",
       "  function display_loaded() {\n",
       "    const el = document.getElementById(\"p1001\");\n",
       "    if (el != null) {\n",
       "      el.textContent = \"BokehJS is loading...\";\n",
       "    }\n",
       "    if (root.Bokeh !== undefined) {\n",
       "      if (el != null) {\n",
       "        el.textContent = \"BokehJS \" + root.Bokeh.version + \" successfully loaded.\";\n",
       "      }\n",
       "    } else if (Date.now() < root._bokeh_timeout) {\n",
       "      setTimeout(display_loaded, 100)\n",
       "    }\n",
       "  }\n",
       "\n",
       "  function run_callbacks() {\n",
       "    try {\n",
       "      root._bokeh_onload_callbacks.forEach(function(callback) {\n",
       "        if (callback != null)\n",
       "          callback();\n",
       "      });\n",
       "    } finally {\n",
       "      delete root._bokeh_onload_callbacks\n",
       "    }\n",
       "    console.debug(\"Bokeh: all callbacks have finished\");\n",
       "  }\n",
       "\n",
       "  function load_libs(css_urls, js_urls, callback) {\n",
       "    if (css_urls == null) css_urls = [];\n",
       "    if (js_urls == null) js_urls = [];\n",
       "\n",
       "    root._bokeh_onload_callbacks.push(callback);\n",
       "    if (root._bokeh_is_loading > 0) {\n",
       "      console.debug(\"Bokeh: BokehJS is being loaded, scheduling callback at\", now());\n",
       "      return null;\n",
       "    }\n",
       "    if (js_urls == null || js_urls.length === 0) {\n",
       "      run_callbacks();\n",
       "      return null;\n",
       "    }\n",
       "    console.debug(\"Bokeh: BokehJS not loaded, scheduling load and callback at\", now());\n",
       "    root._bokeh_is_loading = css_urls.length + js_urls.length;\n",
       "\n",
       "    function on_load() {\n",
       "      root._bokeh_is_loading--;\n",
       "      if (root._bokeh_is_loading === 0) {\n",
       "        console.debug(\"Bokeh: all BokehJS libraries/stylesheets loaded\");\n",
       "        run_callbacks()\n",
       "      }\n",
       "    }\n",
       "\n",
       "    function on_error(url) {\n",
       "      console.error(\"failed to load \" + url);\n",
       "    }\n",
       "\n",
       "    for (let i = 0; i < css_urls.length; i++) {\n",
       "      const url = css_urls[i];\n",
       "      const element = document.createElement(\"link\");\n",
       "      element.onload = on_load;\n",
       "      element.onerror = on_error.bind(null, url);\n",
       "      element.rel = \"stylesheet\";\n",
       "      element.type = \"text/css\";\n",
       "      element.href = url;\n",
       "      console.debug(\"Bokeh: injecting link tag for BokehJS stylesheet: \", url);\n",
       "      document.body.appendChild(element);\n",
       "    }\n",
       "\n",
       "    for (let i = 0; i < js_urls.length; i++) {\n",
       "      const url = js_urls[i];\n",
       "      const element = document.createElement('script');\n",
       "      element.onload = on_load;\n",
       "      element.onerror = on_error.bind(null, url);\n",
       "      element.async = false;\n",
       "      element.src = url;\n",
       "      console.debug(\"Bokeh: injecting script tag for BokehJS library: \", url);\n",
       "      document.head.appendChild(element);\n",
       "    }\n",
       "  };\n",
       "\n",
       "  function inject_raw_css(css) {\n",
       "    const element = document.createElement(\"style\");\n",
       "    element.appendChild(document.createTextNode(css));\n",
       "    document.body.appendChild(element);\n",
       "  }\n",
       "\n",
       "  const js_urls = [\"https://cdn.bokeh.org/bokeh/release/bokeh-3.0.3.min.js\", \"https://cdn.bokeh.org/bokeh/release/bokeh-gl-3.0.3.min.js\", \"https://cdn.bokeh.org/bokeh/release/bokeh-widgets-3.0.3.min.js\", \"https://cdn.bokeh.org/bokeh/release/bokeh-tables-3.0.3.min.js\", \"https://cdn.bokeh.org/bokeh/release/bokeh-mathjax-3.0.3.min.js\"];\n",
       "  const css_urls = [];\n",
       "\n",
       "  const inline_js = [    function(Bokeh) {\n",
       "      Bokeh.set_log_level(\"info\");\n",
       "    },\n",
       "function(Bokeh) {\n",
       "    }\n",
       "  ];\n",
       "\n",
       "  function run_inline_js() {\n",
       "    if (root.Bokeh !== undefined || force === true) {\n",
       "          for (let i = 0; i < inline_js.length; i++) {\n",
       "      inline_js[i].call(root, root.Bokeh);\n",
       "    }\n",
       "if (force === true) {\n",
       "        display_loaded();\n",
       "      }} else if (Date.now() < root._bokeh_timeout) {\n",
       "      setTimeout(run_inline_js, 100);\n",
       "    } else if (!root._bokeh_failed_load) {\n",
       "      console.log(\"Bokeh: BokehJS failed to load within specified timeout.\");\n",
       "      root._bokeh_failed_load = true;\n",
       "    } else if (force !== true) {\n",
       "      const cell = $(document.getElementById(\"p1001\")).parents('.cell').data().cell;\n",
       "      cell.output_area.append_execute_result(NB_LOAD_WARNING)\n",
       "    }\n",
       "  }\n",
       "\n",
       "  if (root._bokeh_is_loading === 0) {\n",
       "    console.debug(\"Bokeh: BokehJS loaded, going straight to plotting\");\n",
       "    run_inline_js();\n",
       "  } else {\n",
       "    load_libs(css_urls, js_urls, function() {\n",
       "      console.debug(\"Bokeh: BokehJS plotting callback run at\", now());\n",
       "      run_inline_js();\n",
       "    });\n",
       "  }\n",
       "}(window));"
      ],
      "application/vnd.bokehjs_load.v0+json": "(function(root) {\n  function now() {\n    return new Date();\n  }\n\n  const force = true;\n\n  if (typeof root._bokeh_onload_callbacks === \"undefined\" || force === true) {\n    root._bokeh_onload_callbacks = [];\n    root._bokeh_is_loading = undefined;\n  }\n\n\n  if (typeof (root._bokeh_timeout) === \"undefined\" || force === true) {\n    root._bokeh_timeout = Date.now() + 5000;\n    root._bokeh_failed_load = false;\n  }\n\n  const NB_LOAD_WARNING = {'data': {'text/html':\n     \"<div style='background-color: #fdd'>\\n\"+\n     \"<p>\\n\"+\n     \"BokehJS does not appear to have successfully loaded. If loading BokehJS from CDN, this \\n\"+\n     \"may be due to a slow or bad network connection. Possible fixes:\\n\"+\n     \"</p>\\n\"+\n     \"<ul>\\n\"+\n     \"<li>re-rerun `output_notebook()` to attempt to load from CDN again, or</li>\\n\"+\n     \"<li>use INLINE resources instead, as so:</li>\\n\"+\n     \"</ul>\\n\"+\n     \"<code>\\n\"+\n     \"from bokeh.resources import INLINE\\n\"+\n     \"output_notebook(resources=INLINE)\\n\"+\n     \"</code>\\n\"+\n     \"</div>\"}};\n\n  function display_loaded() {\n    const el = document.getElementById(\"p1001\");\n    if (el != null) {\n      el.textContent = \"BokehJS is loading...\";\n    }\n    if (root.Bokeh !== undefined) {\n      if (el != null) {\n        el.textContent = \"BokehJS \" + root.Bokeh.version + \" successfully loaded.\";\n      }\n    } else if (Date.now() < root._bokeh_timeout) {\n      setTimeout(display_loaded, 100)\n    }\n  }\n\n  function run_callbacks() {\n    try {\n      root._bokeh_onload_callbacks.forEach(function(callback) {\n        if (callback != null)\n          callback();\n      });\n    } finally {\n      delete root._bokeh_onload_callbacks\n    }\n    console.debug(\"Bokeh: all callbacks have finished\");\n  }\n\n  function load_libs(css_urls, js_urls, callback) {\n    if (css_urls == null) css_urls = [];\n    if (js_urls == null) js_urls = [];\n\n    root._bokeh_onload_callbacks.push(callback);\n    if (root._bokeh_is_loading > 0) {\n      console.debug(\"Bokeh: BokehJS is being loaded, scheduling callback at\", now());\n      return null;\n    }\n    if (js_urls == null || js_urls.length === 0) {\n      run_callbacks();\n      return null;\n    }\n    console.debug(\"Bokeh: BokehJS not loaded, scheduling load and callback at\", now());\n    root._bokeh_is_loading = css_urls.length + js_urls.length;\n\n    function on_load() {\n      root._bokeh_is_loading--;\n      if (root._bokeh_is_loading === 0) {\n        console.debug(\"Bokeh: all BokehJS libraries/stylesheets loaded\");\n        run_callbacks()\n      }\n    }\n\n    function on_error(url) {\n      console.error(\"failed to load \" + url);\n    }\n\n    for (let i = 0; i < css_urls.length; i++) {\n      const url = css_urls[i];\n      const element = document.createElement(\"link\");\n      element.onload = on_load;\n      element.onerror = on_error.bind(null, url);\n      element.rel = \"stylesheet\";\n      element.type = \"text/css\";\n      element.href = url;\n      console.debug(\"Bokeh: injecting link tag for BokehJS stylesheet: \", url);\n      document.body.appendChild(element);\n    }\n\n    for (let i = 0; i < js_urls.length; i++) {\n      const url = js_urls[i];\n      const element = document.createElement('script');\n      element.onload = on_load;\n      element.onerror = on_error.bind(null, url);\n      element.async = false;\n      element.src = url;\n      console.debug(\"Bokeh: injecting script tag for BokehJS library: \", url);\n      document.head.appendChild(element);\n    }\n  };\n\n  function inject_raw_css(css) {\n    const element = document.createElement(\"style\");\n    element.appendChild(document.createTextNode(css));\n    document.body.appendChild(element);\n  }\n\n  const js_urls = [\"https://cdn.bokeh.org/bokeh/release/bokeh-3.0.3.min.js\", \"https://cdn.bokeh.org/bokeh/release/bokeh-gl-3.0.3.min.js\", \"https://cdn.bokeh.org/bokeh/release/bokeh-widgets-3.0.3.min.js\", \"https://cdn.bokeh.org/bokeh/release/bokeh-tables-3.0.3.min.js\", \"https://cdn.bokeh.org/bokeh/release/bokeh-mathjax-3.0.3.min.js\"];\n  const css_urls = [];\n\n  const inline_js = [    function(Bokeh) {\n      Bokeh.set_log_level(\"info\");\n    },\nfunction(Bokeh) {\n    }\n  ];\n\n  function run_inline_js() {\n    if (root.Bokeh !== undefined || force === true) {\n          for (let i = 0; i < inline_js.length; i++) {\n      inline_js[i].call(root, root.Bokeh);\n    }\nif (force === true) {\n        display_loaded();\n      }} else if (Date.now() < root._bokeh_timeout) {\n      setTimeout(run_inline_js, 100);\n    } else if (!root._bokeh_failed_load) {\n      console.log(\"Bokeh: BokehJS failed to load within specified timeout.\");\n      root._bokeh_failed_load = true;\n    } else if (force !== true) {\n      const cell = $(document.getElementById(\"p1001\")).parents('.cell').data().cell;\n      cell.output_area.append_execute_result(NB_LOAD_WARNING)\n    }\n  }\n\n  if (root._bokeh_is_loading === 0) {\n    console.debug(\"Bokeh: BokehJS loaded, going straight to plotting\");\n    run_inline_js();\n  } else {\n    load_libs(css_urls, js_urls, function() {\n      console.debug(\"Bokeh: BokehJS plotting callback run at\", now());\n      run_inline_js();\n    });\n  }\n}(window));"
     },
     "metadata": {},
     "output_type": "display_data"
    }
   ],
   "source": [
    "import numpy as np\n",
    "import matplotlib.pyplot as plt\n",
    "import pandas as pd\n",
    "from bs4 import BeautifulSoup\n",
    "import requests\n",
    "\n",
    "from nltk.probability import FreqDist\n",
    "from nltk.tokenize import word_tokenize\n",
    "from nltk.corpus import stopwords\n",
    "from nltk.corpus import stopwords\n",
    "from string import punctuation\n",
    "from nltk.collocations import *\n",
    "import nltk \n",
    "nltk.download('punkt')\n",
    "nltk.download('stopwords')\n",
    "\n",
    "import networkx as nx\n",
    "from bokeh.plotting import figure\n",
    "from bokeh.models import Range1d, Circle, ColumnDataSource, MultiLine, LabelSet\n",
    "from bokeh.plotting import from_networkx\n",
    "from bokeh.io import output_notebook, show, save\n",
    "\n",
    "#To improve resolution\n",
    "from IPython.display import set_matplotlib_formats\n",
    "set_matplotlib_formats('svg')\n",
    "import matplotlib.patches as mpatches\n",
    "\n",
    "output_notebook()"
   ]
  },
  {
   "cell_type": "markdown",
   "id": "95277f0d",
   "metadata": {},
   "source": [
    "# Methods\n",
    "\n",
    "### First Dataset - Social scientist's Congressional testimony\n",
    "To get the first dataset,  I used the provided link by osf.io, downloaded it, and saved it as a CSV file.\n",
    "\n",
    "### Second Dataset - Congress's historical data\n",
    "This dataset was scrapped from [Party Divisions of the House of Representatives, 1789 to Present](https://history.house.gov/Institution/Party-Divisions/Party-Divisions/). I first grabbed the whole website with BeautifulSoup API and parsed it. Then I found the table headers and stored them and made a list of what final headers I need for my final data frame. In the next step, I went through the rows of the table, then I stored the rows that its Congress was after 1945. Then I dropped the renaming rows. I also, broke the \"Congress (Years)\" into two different columns the Congress years and the Congress number as they are two separate things. I converted the data type of Democrat and Republican columns from object to string as they are needed for comparison later on.\n",
    "\n",
    "\n",
    "### Third Dataset - Federal Reserve's Recession data\n",
    "For the third dataset, I used the data provided by the Federal Reserve bank of St Louis. I made a new column of years as the year is going to be a metric we are going to be comparing the results by, but the recession data is measured quarterly. So if there is a recession in part of the year, I just assumed that year has a recession in my research. I also renamed the 'JHDUSRGDPBR' column to 'IsRecession' as it was more of a appropriate label.\n",
    "\n",
    "### Combined Dataset\n",
    "I used left merge on the second dataset and the first dataset so that I could find out what scientists testified at what Congress. To do this task, I made two different data frames and matches the scientists with whether they appeared in the first or second year of Congress's term for its testimony and then combined the two data frames into one concat function. Thus I ended up with a dataset that has each scientist with the congress term they testified and the Congressional information of that Congress along with the original information of that testimony.\n",
    "\n",
    "\n",
    "### Analytical process\n",
    "In the explanatory section, I mostly tried to look at what each dataset tells me. I made a bar chart of what type of social scientist appeared the most, which made me curious why there is such a huge skew towards Economists and caused me to find another dataset for further research. I also checked, the political trend of Congress to see how has the political dynamic of the United States changed over time for a better perspective. Later on, I tried to see if there is any relationship between political parties and the number of testimonies with a pie chart. Then made a line chart of the total number of testimonies by year to see if I see a trend that I could dig deeper on. While overall we have an increase and then decrease in the number of testimonies before Congress, Congress's attitude toward different disciplines might be different which is why I decided to analyze by field in my analysis section. Then I did a text and network analysis to figure out what the issues Congress mostly holds hearings over as they will explain the heavy skew toward economists and figure out what are the issues Congress is mostly focused on."
   ]
  },
  {
   "cell_type": "code",
   "execution_count": null,
   "id": "2e3060f9",
   "metadata": {},
   "outputs": [],
   "source": [
    "#First Dataset - Social scientist's Congressional testimony\n",
    "df_testimony = pd.read_csv('https://osf.io/download/asdp8/')\n",
    "df_testimony.to_csv('SocialScientistsTestiomonyDataset.csv')\n",
    "df_testimony.head()"
   ]
  },
  {
   "cell_type": "code",
   "execution_count": null,
   "id": "716a319f",
   "metadata": {},
   "outputs": [],
   "source": [
    "df_testimony.tail()"
   ]
  },
  {
   "cell_type": "code",
   "execution_count": null,
   "id": "4bc3f768",
   "metadata": {},
   "outputs": [],
   "source": [
    "#Second Dataset - Congress's historical data\n",
    "#Scrapping from the website \n",
    "response = requests.get('https://history.house.gov/Institution/Party-Divisions/Party-Divisions/')\n",
    "html_string = response.text\n",
    "document = BeautifulSoup(html_string, \"html.parser\")"
   ]
  },
  {
   "cell_type": "code",
   "execution_count": null,
   "id": "a0ee9afb",
   "metadata": {},
   "outputs": [],
   "source": [
    "#Getting the Table Headers from the website\n",
    "columns_headers = []\n",
    "\n",
    "table = document.find('table')\n",
    "table_header = table.find(\"thead\")\n",
    "\n",
    "for header in table_header.find_all(\"th\"):\n",
    "    columns_headers.append(header.text.strip())\n",
    "\n",
    "print(columns_headers)"
   ]
  },
  {
   "cell_type": "code",
   "execution_count": null,
   "id": "218345d1",
   "metadata": {},
   "outputs": [],
   "source": [
    "#Fixing the headers for the dataframe \n",
    "#Since I limited my dataframe to years that Democrats and Republicans were the dominated parties, I changed the headers for them\n",
    "columns_headers[2] = \"Democrats\"\n",
    "columns_headers[3] = \"Republicans\"\n",
    "columns_headers.append(\"Year\")\n",
    "columns_headers.append(\"Congress\")"
   ]
  },
  {
   "cell_type": "code",
   "execution_count": null,
   "id": "14cebe72",
   "metadata": {},
   "outputs": [],
   "source": [
    "#Reading through the tables body on the website and only grabbing data for years after 1945\n",
    "congress_breakdown_rows  = []\n",
    "\n",
    "#Table body\n",
    "table_body = table.find(\"tbody\")\n",
    "\n",
    "add_row_permission = False\n",
    "congress_counter = 0\n",
    "\n",
    "for row in table_body.find_all(\"tr\"):\n",
    "  \n",
    "  table_row = []\n",
    "  first_cell = True\n",
    "  congress = \"\"\n",
    "  year = \"\"\n",
    "  \n",
    "  for cell in row.find_all(\"td\"):\n",
    "    if(first_cell):\n",
    "      first_cell_list = cell.text.strip().split(\" \")\n",
    "      congress = first_cell_list[0]\n",
    "      year = first_cell_list[1]\n",
    "      if(\"1945\" in year):\n",
    "        add_row_permission = True\n",
    "        \n",
    "      first_cell = False\n",
    "      \n",
    "    if(add_row_permission):\n",
    "     \n",
    "      table_row.append(cell.text.strip())\n",
    "  \n",
    "  if(add_row_permission):\n",
    "    table_row.append(year)\n",
    "    table_row.append(congress)\n",
    "\n",
    "    congress_breakdown_rows.append(table_row)\n",
    "\n",
    "df_congress_breakdown = pd.DataFrame(congress_breakdown_rows, columns=columns_headers)"
   ]
  },
  {
   "cell_type": "code",
   "execution_count": null,
   "id": "0aa36705",
   "metadata": {},
   "outputs": [],
   "source": [
    "df_congress_breakdown.head()"
   ]
  },
  {
   "cell_type": "code",
   "execution_count": null,
   "id": "dccbdfc6",
   "metadata": {},
   "outputs": [],
   "source": [
    "df_congress_breakdown.tail()"
   ]
  },
  {
   "cell_type": "code",
   "execution_count": null,
   "id": "e2b6505c",
   "metadata": {},
   "outputs": [],
   "source": [
    "df_congress_breakdown.drop(df_congress_breakdown.tail(4).index,\n",
    "        inplace = True)"
   ]
  },
  {
   "cell_type": "code",
   "execution_count": null,
   "id": "88ee4935",
   "metadata": {},
   "outputs": [],
   "source": [
    "df_congress_breakdown.columns"
   ]
  },
  {
   "cell_type": "code",
   "execution_count": null,
   "id": "971cdee9",
   "metadata": {},
   "outputs": [],
   "source": [
    "df_congress_breakdown.dropna(how='any', inplace=True)"
   ]
  },
  {
   "cell_type": "code",
   "execution_count": null,
   "id": "2fe526b2",
   "metadata": {},
   "outputs": [],
   "source": [
    "display(df_congress_breakdown)"
   ]
  },
  {
   "cell_type": "code",
   "execution_count": null,
   "id": "52da4138",
   "metadata": {},
   "outputs": [],
   "source": [
    "df_congress_breakdown.to_csv('CongressDataset.csv')"
   ]
  },
  {
   "cell_type": "code",
   "execution_count": null,
   "id": "cdf804cd",
   "metadata": {},
   "outputs": [],
   "source": [
    "print(df_congress_breakdown.dtypes)"
   ]
  },
  {
   "cell_type": "code",
   "execution_count": null,
   "id": "adde01c9",
   "metadata": {},
   "outputs": [],
   "source": [
    "df_congress_breakdown['Democrats'] = df_congress_breakdown['Democrats'].astype(int)\n",
    "df_congress_breakdown['Republicans'] = df_congress_breakdown['Republicans'].astype(int)"
   ]
  },
  {
   "cell_type": "code",
   "execution_count": null,
   "id": "63954c94",
   "metadata": {},
   "outputs": [],
   "source": [
    "#Third Dataset - Recession Data from 1967 - Now\n",
    "df_recession = pd.read_csv('https://fred.stlouisfed.org/graph/fredgraph.csv?bgcolor=%23e1e9f0&chart_type=line&drp=0&fo=open%20sans&graph_bgcolor=%23ffffff&height=450&mode=fred&recession_bars=off&txtcolor=%23444444&ts=12&tts=12&width=1318&nt=0&thu=0&trc=0&show_legend=yes&show_axis_titles=yes&show_tooltip=yes&id=JHDUSRGDPBR&scale=left&cosd=1967-10-01&coed=2022-07-01&line_color=%234572a7&link_values=false&line_style=solid&mark_type=none&mw=3&lw=2&ost=-99999&oet=99999&mma=0&fml=a&fq=Quarterly&fam=avg&fgst=lin&fgsnd=2020-02-01&line_index=1&transformation=lin&vintage_date=2023-03-18&revision_date=2023-03-18&nd=1967-10-01')\n",
    "df_recession.to_csv('USRecessionData.csv')\n",
    "df_recession[\"Year\"] = df_recession[\"DATE\"].str[:4]\n",
    "df_recession = df_recession.rename(columns={'JHDUSRGDPBR': 'IsRecession'})\n",
    "\n",
    "display(df_recession)"
   ]
  },
  {
   "cell_type": "code",
   "execution_count": null,
   "id": "0e8f3f26",
   "metadata": {},
   "outputs": [],
   "source": [
    "# Merging the the two datasets \n",
    "year1 = []\n",
    "year2 = [] \n",
    "for ind in df_congress_breakdown.index:\n",
    "    \n",
    "    if(\"2021\" in df_congress_breakdown['Year'][ind] and \"2019\" in df_congress_breakdown['Year'][ind]):\n",
    "        years = df_congress_breakdown['Year'][ind].split(\"-\")\n",
    "    else:\n",
    "        years = df_congress_breakdown['Year'][ind].split(\"–\")\n",
    "    year1.append(int(years[0][1:5]))\n",
    "    year2.append(int(years[1][0:4])-1)\n",
    "    \n",
    "    \n",
    "\n",
    "df_congress_breakdown['Year_1'] = year1\n",
    "df_congress_breakdown['Year_2'] = year2\n",
    "\n",
    "df_testimony['Year_1'] = df_testimony[\"year\"]\n",
    "df_testimony['Year_2'] = df_testimony[\"year\"]\n",
    "\n",
    "new_df_1 = pd.merge(df_testimony,df_congress_breakdown ,  how='left', left_on=['Year_1'], right_on = ['Year_1'])\n",
    "new_df_2 = pd.merge( df_testimony,df_congress_breakdown ,  how='left', left_on=['Year_2'], right_on = ['Year_2'])\n",
    "\n",
    "frames = [new_df_1, new_df_2]\n",
    "\n",
    "df_merged = pd.concat(frames)\n",
    "display(df_merged)\n",
    "df_merged.to_csv('MergedDataset.csv')"
   ]
  },
  {
   "cell_type": "markdown",
   "id": "c90b1652",
   "metadata": {},
   "source": [
    "# Explatory Section "
   ]
  },
  {
   "cell_type": "code",
   "execution_count": null,
   "id": "3f0317e5",
   "metadata": {},
   "outputs": [],
   "source": [
    "#Visualization 1 - Social Scientists breakdown by field \n",
    "df_testimony_discipline1 = df_testimony.groupby('discipline1')['discipline1'].count()\n",
    "scientists_type = list(df_testimony_discipline1.keys())\n",
    "scientists_value = list(df_testimony_discipline1)\n",
    "print(scientists_type)\n",
    "print(scientists_value)\n",
    "plotdata = pd.DataFrame(\n",
    "    {\"Social Scientists count\": scientists_value}, \n",
    "    index=scientists_type)\n",
    "\n",
    "\n",
    "plotdata.plot(kind=\"bar\",title = \"Social scientists count by field\")"
   ]
  },
  {
   "cell_type": "markdown",
   "id": "5eab5dab",
   "metadata": {},
   "source": [
    "#### Analysis\n",
    "The most common social scientists that appeared before congress are economists, followed by political scientists, psychologists, sociologists, and anthropologists. The economists dominat the testimonies by a large margin."
   ]
  },
  {
   "cell_type": "code",
   "execution_count": null,
   "id": "bfda7084",
   "metadata": {},
   "outputs": [],
   "source": [
    "#Visualization 2 - Number of Democrate Congress members from 78th to 113th Congress\n",
    "df_congress_breakdown.plot(x = \"Congress\",y='Democrats', linestyle='--', marker='o', color='b', label='')\n",
    "plt.title(label=\"Number of Democrate house of representative from 78th to 113th Congress\",\n",
    "          fontsize=10)\n",
    "plt.xlabel('Congress number') \n",
    "plt.ylabel('Count') \n",
    "plt.legend()"
   ]
  },
  {
   "cell_type": "markdown",
   "id": "cc6cf0a0",
   "metadata": {},
   "source": [
    "#### Analysis\n",
    "We have an uptick in the number of Democrate members in the 80-100th Congress, followed by a sharp decline and a slight uptick, and decline again."
   ]
  },
  {
   "cell_type": "code",
   "execution_count": null,
   "id": "de54a275",
   "metadata": {},
   "outputs": [],
   "source": [
    "#Visualization 3 - Number of Republican Congress members from 78th to 113th Congress\n",
    "df_congress_breakdown.plot(x = \"Congress\",y='Republicans', linestyle='--', marker='o', color='r', label='')\n",
    "plt.title(label=\"Number of Republican house of representative members from 78th to 113th Congress\",\n",
    "          fontsize=10)\n",
    "plt.xlabel('Congress number') \n",
    "plt.ylabel('Count')\n",
    "plt.legend()"
   ]
  },
  {
   "cell_type": "markdown",
   "id": "aea29b5f",
   "metadata": {},
   "source": [
    "#### Analysis\n",
    "We have an decline in the number of Republican members in the 80-100th Congress, followed an increase."
   ]
  },
  {
   "cell_type": "code",
   "execution_count": null,
   "id": "781fe2fc",
   "metadata": {},
   "outputs": [],
   "source": [
    "#Visualization 4 - Scientists by year\n",
    "df_testimony_appearence_count_year = df_testimony.groupby('year')['year'].count()\n",
    "\n",
    "#print(df_testimony_appearence_count_year)\n",
    "x = list(df_testimony_appearence_count_year.keys())\n",
    "y = list(df_testimony_appearence_count_year)\n",
    "\n",
    "plt.title(label=\"Number of social scientists testimonies by year \",\n",
    "          fontsize=10)\n",
    "plt.xlabel('Year') \n",
    "plt.ylabel('Count')\n",
    "plt.plot(x,y,'g')"
   ]
  },
  {
   "cell_type": "markdown",
   "id": "72b7f2d7",
   "metadata": {},
   "source": [
    "### Analysis\n",
    "As we can we have an overall increase in the number of testimonies from the 1950s to the 1980s, but then we have a continuous downward trend from then on."
   ]
  },
  {
   "cell_type": "code",
   "execution_count": null,
   "id": "3afa0f9b",
   "metadata": {
    "scrolled": true
   },
   "outputs": [],
   "source": [
    "appearence_by_scientists = df_testimony.groupby('witness_name')['witness_name'].count().sort_values(ascending=False)\n",
    "print(appearence_by_scientists)\n",
    "appearence_by_scientists.describe()"
   ]
  },
  {
   "cell_type": "markdown",
   "id": "db15b25b",
   "metadata": {},
   "source": [
    "### Analysis\n",
    "There seem to be several famous scientists who testified alot such as Alan Greenspan and Alice Rivlin, but if have look at the statistics most scientists have only testified at most once."
   ]
  },
  {
   "cell_type": "code",
   "execution_count": null,
   "id": "a009a25e",
   "metadata": {},
   "outputs": [],
   "source": [
    "#Visualization 5 - Scientists by year\n",
    "plt.title(label=\"Number of social scientists testiominals histogram\",\n",
    "          fontsize=10)\n",
    "plt.xlabel('Number of appearances') \n",
    "plt.ylabel('Count')\n",
    "plt.hist(appearence_by_scientists,bins=50, color='green')"
   ]
  },
  {
   "cell_type": "markdown",
   "id": "372c44a4",
   "metadata": {},
   "source": [
    "### Analysis\n",
    "As the histogram show there are barely any scientists who testied more than 25 times and the majority(over 4000 scientists)only testied once or twice."
   ]
  },
  {
   "cell_type": "code",
   "execution_count": null,
   "id": "69333b19",
   "metadata": {},
   "outputs": [],
   "source": [
    "#Visualization 6 - Box plot for scientists apperance by year\n",
    "scientists_by_year = df_merged.groupby('year')['year'].count()\n",
    "plt.title(\"Box plot of scientists apperance by year \")\n",
    "plt.ylabel('Count')\n",
    "scientists_by_year.plot(kind='box')\n",
    "print(\"Mean: \"+ str(scientists_by_year.mean()))\n",
    "print(\"Median: \"+ str(scientists_by_year.median()))\n",
    "print(\"Standard deviation: \"+ str(scientists_by_year.std()))\n",
    "print(\"Max: \"+ str(scientists_by_year.max()))\n",
    "print(\"Min: \"+ str(scientists_by_year.min()))"
   ]
  },
  {
   "cell_type": "markdown",
   "id": "30a7a87c",
   "metadata": {},
   "source": [
    "### Analysis\n",
    "As we can on average there are 200 scientists testimonies per year at Congress or about one per working per day. The  standard deviation is 211 which is kind of huge and shows the amount of variability in the number of testimonies.\n",
    "There is also a significant difference between the max(928) and the min(60) number of testimonies."
   ]
  },
  {
   "cell_type": "markdown",
   "id": "8b863d49",
   "metadata": {},
   "source": [
    "#  Analysis Section "
   ]
  },
  {
   "cell_type": "code",
   "execution_count": null,
   "id": "de7406cb",
   "metadata": {},
   "outputs": [],
   "source": [
    "#Visualization 1 - Number of scientists appearenace by Congress - year\n",
    "scientists_by_congress = df_merged.groupby('Congress')['Congress'].count()\n",
    "\n",
    "x_unsorted = list(scientists_by_congress.keys())\n",
    "y_unsorted = list(scientists_by_congress)\n",
    "\n",
    "x = x_unsorted[15:]+x_unsorted[0:15]\n",
    "y = y_unsorted[15:]+y_unsorted[0:15]\n",
    "plt.figure(figsize=(20,10))\n",
    "plt.title(\"Number of Congressial scientists testimonies\",fontsize = 10)\n",
    "plt.ylabel('Count',fontsize = 10)\n",
    "plt.xlabel('Congress Number',fontsize = 10)\n",
    "\n",
    "plt.xticks(fontsize = 7)\n",
    "plt.plot(x,y,'g')"
   ]
  },
  {
   "cell_type": "code",
   "execution_count": null,
   "id": "6637a3f4",
   "metadata": {},
   "outputs": [],
   "source": [
    "scientists_by_congress = df_merged.groupby('Year')['Year'].count()\n",
    "\n",
    "x = list(scientists_by_congress.keys())\n",
    "y = list(scientists_by_congress)\n",
    "\n",
    "plt.figure(figsize=(32,10))\n",
    "plt.title(\"Number of scientists testimonies by Congressional term\",fontsize=10)\n",
    "plt.ylabel('Count',fontsize = 10)\n",
    "plt.xlabel('Congress Congressional term',fontsize = 10)\n",
    "plt.xticks(fontsize = 7)\n",
    "plt.plot(x,y,'g')"
   ]
  },
  {
   "cell_type": "markdown",
   "id": "75c1988a",
   "metadata": {},
   "source": [
    "### Analysis \n",
    "As we can see from the line chart, the number of testimonies peeked at the 97th Congress(1981-1983), and the lowest number of testimonies happened at the 79th Congress(1945-1947), but this might be because our dataset started counting the number of testimonies from 1946. There is an increase in testimonis during financial crises of 2008, but then it starts to decline again."
   ]
  },
  {
   "cell_type": "code",
   "execution_count": null,
   "id": "74af0782",
   "metadata": {},
   "outputs": [],
   "source": [
    "#Visualization 2 - Number of scientists appearenace by democrate vs republican dominated congress\n",
    "df_democrateDominatedCongress = df_merged[df_merged[\"Democrats\"]>df_merged[\"Republicans\"]]\n",
    "df_republicanDominatedCongress = df_merged[df_merged[\"Republicans\"]>df_merged[\"Democrats\"]]\n",
    "\n",
    "df_democrateDominatedCongress_count = df_congress_breakdown[df_congress_breakdown[\"Democrats\"]>df_congress_breakdown[\"Republicans\"]]\n",
    "df_republicanDominatedCongress_count = df_congress_breakdown[df_congress_breakdown[\"Republicans\"]>df_congress_breakdown[\"Democrats\"]]\n",
    "print(\"Number of Congresses with Democrat majority house of representative: \" + str(len(df_democrateDominatedCongress_count)))\n",
    "print(\"Number of Congresses with Republican majority house of representative: \"+str(len(df_republicanDominatedCongress_count)))\n",
    "\n",
    "#Normalization\n",
    "y = np.array([len(df_democrateDominatedCongress)/len(df_democrateDominatedCongress_count), \n",
    "              len(df_republicanDominatedCongress)/len(df_republicanDominatedCongress_count)])\n",
    "\n",
    "def func(pct, allvalues):\n",
    "    absolute = int(pct / 100.*np.sum(allvalues))\n",
    "    return \"({:d})\".format(absolute)\n",
    "  \n",
    "mylabels = [\"Democrat dominated\", \"Republican dominated\"]\n",
    "colors = ['#00AEF3', '#E81B23']\n",
    "\n",
    "plt.title(\"Comparison of scientists testimonies for Democrat majority vs Republican majority house of representative\",fontsize = 10)\n",
    "plt.pie(y, labels = mylabels, autopct = lambda pct: func(pct, y),labeldistance=1.15, wedgeprops = { 'linewidth' : 1, 'edgecolor' : 'white' }, colors = colors)\n",
    "\n",
    "plt.show()"
   ]
  },
  {
   "cell_type": "markdown",
   "id": "32068d5d",
   "metadata": {},
   "source": [
    "###  Analysis\n",
    "As we can see from the pie chart there does seem to be a small correlation between the number of scientists appearing and wether Congress is Republican or Democrat-dominated. We have had 26 Congress with Democrats since 1946 and 11 Congresses with a Republican majority. After normalization, 437 testimonies happened at Democrat majority house on average and 373 with a Republican majority. But this difference isn't significant enough to state anything conclusively as there may be other factors involved."
   ]
  },
  {
   "cell_type": "code",
   "execution_count": null,
   "id": "f89eb6b2",
   "metadata": {},
   "outputs": [],
   "source": [
    "scientist_type = df_merged['discipline1'].unique()\n",
    "print(\"Social scientists disciplines :\"+ str(scientist_type))"
   ]
  },
  {
   "cell_type": "code",
   "execution_count": null,
   "id": "6747e135",
   "metadata": {},
   "outputs": [],
   "source": [
    "#Visualization 3 - Different types of scoial  scientist  appearenace by year\n",
    "\n",
    "df_sociologist = df_merged[df_merged[\"discipline1\"] == \"Sociologist\"]\n",
    "sociologist_by_year = df_sociologist.groupby('year')['year'].count()\n",
    "x = list(sociologist_by_year.keys())\n",
    "y = list(sociologist_by_year)\n",
    "\n",
    "plt.figure(figsize=(10,10))\n",
    "plt.plot(x,y, linestyle='--', marker='o', color='r' )\n",
    "plt.title(\"Number of Sociologist testimonies by year\",fontsize=10)\n",
    "plt.ylabel('Sociologist Count',fontsize = 10)\n",
    "plt.xlabel('Year',fontsize = 10)\n",
    "plt.show()"
   ]
  },
  {
   "cell_type": "markdown",
   "id": "7009abc5",
   "metadata": {},
   "source": [
    "### Analysis \n",
    "We have an uptick in number of sociologists in the 1980s and 1990s, but then we have a continous downward trend.\n",
    "As we the maximum number of sociologists ever appearning before Congress is around 1970's."
   ]
  },
  {
   "cell_type": "code",
   "execution_count": null,
   "id": "946574f2",
   "metadata": {},
   "outputs": [],
   "source": [
    "df_economicist = df_merged[df_merged[\"discipline1\"] == \"Economist\"]\n",
    "economicist_by_year = df_economicist.groupby('year')['year'].count()\n",
    "x = list(economicist_by_year.keys())\n",
    "y = list(economicist_by_year)\n",
    "\n",
    "plt.figure(figsize=(10,10))\n",
    "plt.plot(x,y, linestyle='--', marker='o', color='b', label='')\n",
    "plt.title(\"Number of Economist testimonies by year\",fontsize=10)\n",
    "plt.ylabel('Economist Count',fontsize = 10)\n",
    "plt.xlabel('Year',fontsize = 10)\n",
    "plt.show()"
   ]
  },
  {
   "cell_type": "markdown",
   "id": "6678bd45",
   "metadata": {},
   "source": [
    "### Analysis \n",
    "We have an uptick in the number of economists in the late 1950s and 1960s and most of the 1980s, but then we have a continuous downward trend. But, there is another uptick around the financial crises of 2008 which shows Congress invites significantly more economists when there is a recession."
   ]
  },
  {
   "cell_type": "code",
   "execution_count": null,
   "id": "a9a9c647",
   "metadata": {},
   "outputs": [],
   "source": [
    "df_political = df_merged[df_merged[\"discipline1\"] == \"Political Scientist\"]\n",
    "political_by_year = df_political.groupby('year')['year'].count()\n",
    "x = list(political_by_year.keys())\n",
    "y = list(political_by_year)\n",
    "\n",
    "plt.figure(figsize=(10,10))\n",
    "plt.plot(x,y, linestyle='--', marker='o', color='g', label='')\n",
    "plt.title(\"Number of Political Scientist testimonies by year\",fontsize=10)\n",
    "plt.ylabel('Political Scientist Count',fontsize = 10)\n",
    "plt.xlabel('Year',fontsize = 10)\n",
    "plt.show()"
   ]
  },
  {
   "cell_type": "markdown",
   "id": "6bd0788d",
   "metadata": {},
   "source": [
    "### Analysis \n",
    "Contrary to other types of social scientists, there is a continuous increase in the number of political scientists appearing before Congress, this might be because our society has gotten more polarized and more political overtime. The number of political scientists appearing from the 1950s, and 1960s have doubled and tripled in recent years."
   ]
  },
  {
   "cell_type": "code",
   "execution_count": null,
   "id": "bb083ea4",
   "metadata": {},
   "outputs": [],
   "source": [
    "df_psychologist = df_merged[df_merged[\"discipline1\"] == \"Psychologist\"]\n",
    "\n",
    "psychologist_by_year = df_psychologist.groupby('year')['year'].count()\n",
    "x = list(psychologist_by_year.keys())\n",
    "y = list(psychologist_by_year)\n",
    "\n",
    "plt.figure(figsize=(10,10))\n",
    "plt.plot(x,y, linestyle='--', marker='o', color='c', label='')\n",
    "plt.title(\"Number of Psychologist Scientist testimonies by year\",fontsize=10)\n",
    "plt.ylabel('Psychologist Count',fontsize = 10)\n",
    "plt.xlabel('Year',fontsize = 10)"
   ]
  },
  {
   "cell_type": "markdown",
   "id": "2c8ccfd6",
   "metadata": {},
   "source": [
    "### Analysis \n",
    "we have an overall decrease in the number of psychologist appearances which was unexpected, because of the growing importance of mental health."
   ]
  },
  {
   "cell_type": "code",
   "execution_count": null,
   "id": "08653ed5",
   "metadata": {},
   "outputs": [],
   "source": [
    "df_anthropologist = df_merged[df_merged[\"discipline1\"] == \"Anthropologist\"]\n",
    "anthropologist_by_year = df_anthropologist.groupby('year')['year'].count()\n",
    "x = list(anthropologist_by_year.keys())\n",
    "y = list(anthropologist_by_year)\n",
    "\n",
    "plt.figure(figsize=(10,10))\n",
    "plt.plot(x,y, linestyle='--', marker='o', color='y', label='')\n",
    "plt.title(\"Number of Anthropologist testimonies by year\",fontsize=10)\n",
    "plt.ylabel('Anthropologist Count',fontsize = 10)\n",
    "plt.xlabel('Year',fontsize = 10)\n",
    "plt.show()"
   ]
  },
  {
   "cell_type": "markdown",
   "id": "21244956",
   "metadata": {},
   "source": [
    "#### Analysis\n",
    "Generally, there doesn't seem to be a lot of antropolgist testifying before Congress, and overall the trend seems to be consist with the exception of the late 1970s."
   ]
  },
  {
   "cell_type": "code",
   "execution_count": null,
   "id": "9826ba2c",
   "metadata": {},
   "outputs": [],
   "source": [
    "#Visualization 5 - top 50 sceintsis appeared by field \n",
    "appearence_by_scientists_top50 = appearence_by_scientists[0:50]\n",
    "\n",
    "df_merged['discipline1'] = df_merged['discipline1'].astype(str)\n",
    "\n",
    "top50scientists_field = {'Sociologist':0, 'Economist':0, 'Political Scientist':0,'Psychologist':0, 'Anthropologist':0}\n",
    "\n",
    "for name in list(appearence_by_scientists_top50.keys()):\n",
    "    df_name = df_merged[df_merged[\"witness_name\"] == name]\n",
    "    discipline = df_name.iloc[0][\"discipline1\"]\n",
    "    top50scientists_field[discipline] =  top50scientists_field[discipline]+1\n",
    "    \n",
    "x = top50scientists_field.keys()\n",
    "y = top50scientists_field.values()\n",
    "plt.title(\"Top 50 most appeared scientists by field\",fontsize=10)\n",
    "plt.ylabel('Scientist Count',fontsize = 10)\n",
    "plt.bar(x, y, color ='maroon',\n",
    "        width = 0.4)\n"
   ]
  },
  {
   "cell_type": "markdown",
   "id": "cdabe830",
   "metadata": {},
   "source": [
    "### Analysis \n",
    "Practically all the scientists who appeared the most seem to be from the field of Economics. This might be because generally Federal Reserve chairman/chairwomen and economic advisors work overlap a lot with Congress"
   ]
  },
  {
   "cell_type": "code",
   "execution_count": null,
   "id": "034fd826",
   "metadata": {},
   "outputs": [],
   "source": [
    "#Visualization 6 - Text Analysis of reason of appearance \n",
    "#Getting the description of reason of appearance and tokenzie all all of them\n",
    "df_merged['title_description'] = df_merged['title_description'].replace(np.nan,\"\")\n",
    "\n",
    "title_descriptions = df_merged[\"title_description\"].tolist()\n",
    "title_descriptions_words = []\n",
    "for i in range(0,len(title_descriptions)):\n",
    "  for word in word_tokenize(title_descriptions[i]):\n",
    "    title_descriptions_words.append(word)\n",
    "\n",
    "my_stop_words = list(punctuation) + stopwords.words('english')\n",
    "title_descriptions_words_cleaned = [w for w in title_descriptions_words if w not in my_stop_words]\n",
    "finder = BigramCollocationFinder.from_words(title_descriptions_words_cleaned)"
   ]
  },
  {
   "cell_type": "code",
   "execution_count": null,
   "id": "ba48a17b",
   "metadata": {},
   "outputs": [],
   "source": [
    "source = []\n",
    "target = []\n",
    "weight = []\n",
    "\n",
    "for item in finder.ngram_fd.items():\n",
    "    if(item[1] > 70):\n",
    "        source.append(item[0][0])\n",
    "        target.append(item[0][1])\n",
    "        weight.append(item[1])\n",
    " \n",
    "df_graph = pd.DataFrame({'Source': source,\n",
    "                   'Target':target,\n",
    "                   'Weight':weight})\n",
    "\n",
    "char_dict = {v:k for k,v in dict(pd.Series(list(set(df_graph.Target.unique()).union(set(df_graph.Source.unique())))).astype(\"category\")).items()}\n",
    "charindex_dict = {v:k for k,v in char_dict.items()}\n",
    "\n",
    "df_graph['SourceIndex'] = [char_dict[i] for i in df_graph['Source'].values]\n",
    "df_graph['TargetIndex'] = [char_dict[i] for i in df_graph['Target'].values]\n",
    "\n",
    "G = nx.from_pandas_edgelist(df_graph, 'SourceIndex', 'TargetIndex', 'Weight')\n",
    "\n",
    "plot = figure(x_range=Range1d(-20, 20), y_range=Range1d(-20, 20))\n",
    "\n",
    "network_graph = from_networkx(G, nx.spring_layout, scale=20, center=(0, 0))\n",
    "\n",
    "network_graph.node_renderer.glyph = Circle(size=15, fill_color='skyblue')\n",
    "\n",
    "plot.renderers.append(network_graph)\n",
    "\n",
    "#Add Labels\n",
    "x, y = zip(*network_graph.layout_provider.graph_layout.values())\n",
    "node_labels = list(G.nodes())\n",
    "\n",
    "source = ColumnDataSource({'x': x, 'y': y, 'name': [charindex_dict[i] for i in node_labels]})\n",
    "labels = LabelSet(x='x', y='y', text='name', source=source, background_fill_color='white', text_font_size='10px', background_fill_alpha=.7, x_offset=-2.0, y_offset=-2.0)\n",
    "plot.renderers.append(labels)\n",
    "\n",
    "show(plot)"
   ]
  },
  {
   "cell_type": "markdown",
   "id": "d0a5d411",
   "metadata": {},
   "source": [
    "### Analysis \n",
    "I used the N-gram method and made a Network analysis to see what words tend to appear a lot next to each. For example words such as small business, Miiddle East, special hearing, free trade, Soviet Union, interest rates, etc appeared a lot which shows what the topics Congress cares about and on what those are the reasons they invited the scientists for testifying.\n"
   ]
  },
  {
   "cell_type": "code",
   "execution_count": null,
   "id": "12261e08",
   "metadata": {},
   "outputs": [],
   "source": [
    "source = []\n",
    "target = []\n",
    "weight = []\n",
    "\n",
    "apperance_commitie_dic = {}\n",
    "\n",
    "for i in range(len(df_testimony)):\n",
    "    value = str(df_testimony.loc[i, \"witness_name\"])+\"-\"+ str(df_testimony.loc[i, \"full_committee1\"])\n",
    "    if value in apperance_commitie_dic:\n",
    "        apperance_commitie_dic[value] = apperance_commitie_dic[value] + 1\n",
    "    else:\n",
    "        apperance_commitie_dic[value] = 1\n",
    "\n",
    "for item in apperance_commitie_dic:\n",
    "    if(apperance_commitie_dic[item] > 10):\n",
    "        value_list = item.split(\"-\")\n",
    "        source.append(value_list[0])\n",
    "        target.append(value_list[1])\n",
    "        weight.append(apperance_commitie_dic[item])\n",
    "\n",
    "   \n",
    "\n"
   ]
  },
  {
   "cell_type": "code",
   "execution_count": null,
   "id": "0dba3bc1",
   "metadata": {},
   "outputs": [],
   "source": [
    "#Network for indivisual who appeared alot and their respective committie\n",
    "df_graph = pd.DataFrame({'Source': source,\n",
    "                   'Target':target,\n",
    "                   'Weight':weight})\n",
    "\n",
    "char_dict = {v:k for k,v in dict(pd.Series(list(set(df_graph.Target.unique()).union(set(df_graph.Source.unique())))).astype(\"category\")).items()}\n",
    "charindex_dict = {v:k for k,v in char_dict.items()}\n",
    "\n",
    "df_graph['SourceIndex'] = [char_dict[i] for i in df_graph['Source'].values]\n",
    "df_graph['TargetIndex'] = [char_dict[i] for i in df_graph['Target'].values]\n",
    "\n",
    "G = nx.from_pandas_edgelist(df_graph, 'SourceIndex', 'TargetIndex', 'Weight')\n",
    "\n",
    "plot = figure(x_range=Range1d(-10, 10), y_range=Range1d(-10, 10))\n",
    "\n",
    "network_graph = from_networkx(G, nx.spring_layout, scale=10, center=(0, 0))\n",
    "\n",
    "network_graph.node_renderer.glyph = Circle(size=5, fill_color='skyblue')\n",
    "\n",
    "\n",
    "\n",
    "plot.renderers.append(network_graph)\n",
    "\n",
    "#Add Labels\n",
    "x, y = zip(*network_graph.layout_provider.graph_layout.values())\n",
    "node_labels = list(G.nodes())\n",
    "\n",
    "source = ColumnDataSource({'x': x, 'y': y, 'name': [charindex_dict[i] for i in node_labels]})\n",
    "labels = LabelSet(x='x', y='y', text='name', source=source, background_fill_color='white', text_font_size='10px', background_fill_alpha=.7, x_offset=-2.0, y_offset=-2.0)\n",
    "plot.renderers.append(labels)\n",
    "\n",
    "show(plot)"
   ]
  },
  {
   "cell_type": "markdown",
   "id": "817ddc2e",
   "metadata": {},
   "source": [
    "### Analysis\n",
    "As we can see there are certain scientists who appear a lot before certain financial related commities of Congress which demonstrates the closeness of their work with Congress. This helps to furthur explain the skew toward economists in our dataset.\n"
   ]
  },
  {
   "cell_type": "code",
   "execution_count": null,
   "id": "273c89c6",
   "metadata": {},
   "outputs": [],
   "source": [
    "freq_y = []\n",
    "freq_x = []\n",
    "\n",
    "for word_pair in FreqDist(title_descriptions_words_cleaned).most_common(35):\n",
    "    freq_x.append(word_pair[1])\n",
    "    freq_y.append(word_pair[0])\n",
    "    \n",
    "freq_y.reverse()\n",
    "freq_x.reverse()\n",
    "fig = plt.figure()\n",
    "plt.figure(figsize=(10,10))\n",
    "plt.barh(freq_y, freq_x)\n",
    " \n",
    "plt.xlabel(\"Frequnecy\")\n",
    "plt.ylabel(\"Words\")\n",
    "plt.title(\"Most appeared words in why scientists testied\")\n",
    "\n",
    "plt.show()"
   ]
  },
  {
   "cell_type": "markdown",
   "id": "c38ba77f",
   "metadata": {},
   "source": [
    "### Analysis \n",
    "The most common words were act, economic, budget, tax, appropriations, reform, health, education, growth, security, and employment."
   ]
  },
  {
   "cell_type": "code",
   "execution_count": null,
   "id": "fd329e54",
   "metadata": {},
   "outputs": [],
   "source": [
    "#Trend line with Recession\n",
    "\n",
    "\n",
    "recession_years = []\n",
    "\n",
    "for i in range(len(df_recession)):\n",
    "  if(df_recession.loc[i, \"IsRecession\"] == 1):\n",
    "    recession_years.append(df_recession.loc[i, \"Year\"])\n",
    "\n",
    "df_merged_by_year = df_merged.groupby('year')['year'].count()\n",
    "x = list(df_merged_by_year.keys())\n",
    "y = list(df_merged_by_year)\n",
    "\n",
    "for x1, x2, y1,y2 in zip(x, x[1:], y, y[1:]):\n",
    "    if str(int(x1)) in recession_years:\n",
    "        plt.plot([x1, x2], [y1, y2], 'r')\n",
    "    else:\n",
    "        plt.plot([x1, x2], [y1, y2], 'b')\n",
    "        \n",
    "plt.title(\"Line plot of scientists apperance with recession years marked\",fontsize=10)\n",
    "plt.ylabel('Scientist Testomial Count',fontsize = 10)\n",
    "plt.xlabel('Year',fontsize = 10)\n",
    "recession_year_legend = mpatches.Patch(color='r', label='Years with recession')\n",
    "normal_year_legend = mpatches.Patch(color='b', label='Years without recession')\n",
    "plt.legend(handles=[recession_year_legend,normal_year_legend])\n",
    "plt.show()"
   ]
  },
  {
   "cell_type": "markdown",
   "id": "36e80390",
   "metadata": {},
   "source": [
    "### Analysis \n",
    "As we see there is an increase in number of scientists testimonies at the beginning of the recession, but as the situation gets better there is a sharp decline"
   ]
  },
  {
   "cell_type": "markdown",
   "id": "99ad50d0",
   "metadata": {},
   "source": [
    "# Results \n",
    "\n",
    "&nbsp;&nbsp;&nbsp;&nbsp; Initially, when looking at the dataset bar chart for social scientists breakdown in the exploratory section it became quite clear, there are significantly more testimonies by economists, There were 10821 testimonies by Economists followed by 2482 testimonies by political scientists, 970 by osychologists, 904 by sociologist and 305 by anthropologists. Also, looking at the Congress breakdown in the same period we observe an increase in the number of Democrate members and then a decline, and opposite for the Republicans. Then the number of testimonials also held a similar pattern to Democrates rise and decline which prompted further investigation to see if there is actually any releationship between politics and scientists testimonies.Thus, we see that overall there has been a decrease in the number of social scientists' testimonies before Congress compared to the 1980s and 1990s as the number of Republican memembers of Conress has increased. When normalizing the number of social scientists' testimonies by what political party the Congress leans towards, we see that 437 testimonies happened on average for a Democrat-leaning house while only 373 testimonies happened on average at a Republican-leaning house which implies social scientists are slightly more likely to testify with a Democratic majority. Although this can not be stated conclusively as there might be many more factors involved of why this disparency exists.<br/>\n",
    "&nbsp;&nbsp;&nbsp;&nbsp; When analyzing the social scientist's appearance by subfield, surprisingly we observe that the number of testimonies by psychologist has significantly decreased even though there has been a growth in mental health issues and awareness. Mean while the number of testimonies by political scientists has consistently increased which might be due to growing partisanship of our society and respectively our Congress. Testimonies by economists tend to peek around recessions and quickly drop which is expected as Congress wants to decide what to do regarding the state of the economy, what has gone wrong, and what needs to be fixed. But its focuses shifts as the situation gets better. Overall the number of testimonies by anthropologists is consistently low. Interestingly there is a peak in the number of sociologist testimonies in the 1980s but then a drop, this might be due to political turmoil that happened during that era in the middle East such as Iran's revolution & hostage crises, oil embargo by Arab countries and Arab and Israeli war(also similar uptick in 1967 which another Arab Isreali war happened), especially since the word Middle East pops up in the text analysis section as one of the most common reasons cited for appearance.<br/>\n",
    "&nbsp;&nbsp;&nbsp;&nbsp; Out of the top 50 social scientists who appeared the most over 90% of them happen to be Economist and when checking the witness that appeared the most names such as Alan Greenspan and Alice Rivlin shows up which were fed chairman and Vice Chair of the Federal Reserve respectively. As these people were government officials and due to the nature of work of the federal reserve and Congress it makes sense that the federal reserve employees and economic advisors dominate the top of the list of social scinetists who testified the most.<br/>\n",
    "&nbsp;&nbsp;&nbsp;&nbsp; Based on the text analysis of word frequencies, N-gram network, and most testimonies by commities, there is a clear pattern that the majority of the times scientists were invited to discuss economic, business-related topics such as economic policy, budget, tax, employment interest rates, small businesses, etc. Additionally, looking at the N-gram network graph and word frequency chart we can that besides economic issues, the soviet union, housing, education, health care, climate change, Middle East, ... are the top items on the list of stuff that Congress invites scientists to discuss with it.<br/>\n",
    "&nbsp;&nbsp;&nbsp;&nbsp; Based on the line chart of number of testomnies by year with recession marked as red, we can see that when a recession happens there is quick uptick in number of testmonies, but as we go toward the end of the recession there is quick decline. This is explainting by the fact that is Federal Reserve and Congress work together to solve the issue. Thus, it would only make sense that a lot of federal reserve employees and economic advisor testify during this time.\n",
    "\n",
    "# Discussion \n",
    "Unfortunately, contrary that what I expected when I started this project I found out that our government relies less on the guidance of social scientists in its decision-making process. While we saw some weak relationship between political parties and the number of testimonies, it wasn't significant enough to state anything conclusively and further research is required in this area. We saw that the majority of Congress's concerns are economic and political, and there is very little focus on social problems. I believe as our world is getting more complex we should advocate for our government to rely more on the help of experts as it is too hard for us to figure it out indivisually.\n",
    "\n",
    "## Work Cited\n",
    "* [Social scientists’ testimony before Congress in the United States between 1946-2016, trends from a new dataset](https://journals.plos.org/plosone/article?id=10.1371/journal.pone.0230104)\n",
    "* [The Great Inflation](https://www.federalreservehistory.org/essays/great-inflation#:~:text=This%2C%20then%2C%20became%20the%20era,unemployment%20was%20over%207.5%20percent.)\n",
    "* [Arab-Israeli wars](https://www.britannica.com/event/Arab-Israeli-wars)\n"
   ]
  }
 ],
 "metadata": {
  "kernelspec": {
   "display_name": "Python 3 (ipykernel)",
   "language": "python",
   "name": "python3"
  },
  "language_info": {
   "codemirror_mode": {
    "name": "ipython",
    "version": 3
   },
   "file_extension": ".py",
   "mimetype": "text/x-python",
   "name": "python",
   "nbconvert_exporter": "python",
   "pygments_lexer": "ipython3",
   "version": "3.10.8"
  }
 },
 "nbformat": 4,
 "nbformat_minor": 5
}
